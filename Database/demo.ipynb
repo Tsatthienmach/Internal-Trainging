{
 "metadata": {
  "language_info": {
   "codemirror_mode": {
    "name": "ipython",
    "version": 3
   },
   "file_extension": ".py",
   "mimetype": "text/x-python",
   "name": "python",
   "nbconvert_exporter": "python",
   "pygments_lexer": "ipython3",
   "version": "3.6.5-final"
  },
  "orig_nbformat": 2,
  "kernelspec": {
   "name": "python3",
   "display_name": "Python 3.6.5 64-bit ('base': conda)",
   "metadata": {
    "interpreter": {
     "hash": "ffda9091154ece70e2ce063cb945e3f7e66c988d33104683bd7e62f5802936b5"
    }
   }
  }
 },
 "nbformat": 4,
 "nbformat_minor": 2,
 "cells": [
  {
   "cell_type": "code",
   "execution_count": 1,
   "metadata": {},
   "outputs": [],
   "source": [
    "from sqlalchemy import Table, Column, Integer, Numeric, String, ForeignKey, MetaData, DateTime, Boolean, create_engine\n",
    "from datetime import datetime\n",
    "\n",
    "\n",
    "# Metadata ??\n",
    "metadata = MetaData()\n",
    "\n",
    "cookies = Table('cookies', metadata, \n",
    "    Column('cookie_id', Integer(), primary_key=True),\n",
    "    Column('cookie_name', String(50), index=True),\n",
    "    Column('cookie_recipe_url', String(255)),\n",
    "    Column('cookie_sku', String(55)),\n",
    "    Column('quantity', Integer()),\n",
    "    Column('unit_cost', Numeric(12, 2))\n",
    ")"
   ]
  },
  {
   "cell_type": "code",
   "execution_count": 2,
   "metadata": {},
   "outputs": [],
   "source": [
    "users = Table('users', metadata, \n",
    "    Column('user_id', Integer(), primary_key=True),\n",
    "    Column('username', String(15), nullable=False, unique=True),\n",
    "    Column('email_address', String(255), nullable=False),\n",
    "    Column('phone', String(20), nullable=False),\n",
    "    Column('password', String(25), nullable=False),\n",
    "    Column('created_on', DateTime(), default=datetime.now),\n",
    "    Column('updated_on', DateTime(), default=datetime.now, onupdate=datetime.now)\n",
    ")"
   ]
  },
  {
   "cell_type": "code",
   "execution_count": 3,
   "metadata": {},
   "outputs": [],
   "source": [
    "orders = Table('orders', metadata,\n",
    "    Column('order_id', Integer(), primary_key=True),\n",
    "    Column('user_id', ForeignKey('users.user_id')),\n",
    "    Column('shipped', Boolean(), default=False)\n",
    ")\n",
    "\n",
    "line_items = Table('line_items', metadata, \n",
    "    Column('line_items_id', Integer(), primary_key=True),\n",
    "    Column('order_id', ForeignKey('orders.order_id')),\n",
    "    Column('cookie_id', ForeignKey('cookies.cookie_id')),\n",
    "    Column('quantity', Integer()),\n",
    "    Column('extended_cost', Numeric(12, 2))\n",
    ")"
   ]
  },
  {
   "source": [
    "# Persisting the Tables"
   ],
   "cell_type": "markdown",
   "metadata": {}
  },
  {
   "cell_type": "code",
   "execution_count": 4,
   "metadata": {},
   "outputs": [],
   "source": [
    "engine = create_engine('sqlite:///cookies.db')\n",
    "connection = engine.connect()\n",
    "metadata.create_all(engine)"
   ]
  },
  {
   "source": [
    "# Inserting Data"
   ],
   "cell_type": "markdown",
   "metadata": {}
  },
  {
   "source": [
    "## Single insert"
   ],
   "cell_type": "markdown",
   "metadata": {}
  },
  {
   "cell_type": "code",
   "execution_count": 5,
   "metadata": {},
   "outputs": [
    {
     "output_type": "stream",
     "name": "stdout",
     "text": [
      "INSERT INTO cookies (cookie_name, cookie_recipe_url, cookie_sku, quantity, unit_cost) VALUES (:cookie_name, :cookie_recipe_url, :cookie_sku, :quantity, :unit_cost)\n"
     ]
    }
   ],
   "source": [
    "ins = cookies.insert().values(\n",
    "    cookie_name='chocolate_chip',\n",
    "    cookie_recipe_url='http://some.aweso.me/cookie/recipe.html',\n",
    "    cookie_sku='CCO1',\n",
    "    quantity='12',\n",
    "    unit_cost='0.60'\n",
    ")\n",
    "\n",
    "print(str(ins))"
   ]
  },
  {
   "cell_type": "code",
   "execution_count": 6,
   "metadata": {},
   "outputs": [
    {
     "output_type": "stream",
     "name": "stdout",
     "text": [
      "[1]\n"
     ]
    }
   ],
   "source": [
    "result = connection.execute(ins)\n",
    "print(result.inserted_primary_key)"
   ]
  },
  {
   "source": [
    "## Multiple insert"
   ],
   "cell_type": "markdown",
   "metadata": {}
  },
  {
   "cell_type": "code",
   "execution_count": 7,
   "metadata": {},
   "outputs": [],
   "source": [
    "inventory_list = [\n",
    "    {\n",
    "        'cookie_name':'peanut_butter',\n",
    "        'cookie_recipe_url':'https://some.oke.me/cookies/rsia.html',\n",
    "        'cookie_sku':'PON01',\n",
    "        'quantity':'24',\n",
    "        'unit_cost':'0.25'\n",
    "    },\n",
    "    {\n",
    "        'cookie_name': 'oatmeal raisin',\n",
    "        'cookie_recipe_url': 'http://some.okay.me/cookie/raisin.html',\n",
    "        'cookie_sku': 'EWW01',\n",
    "        'quantity': '100',\n",
    "        'unit_cost': '1.00'\n",
    "    }\n",
    "]\n",
    "result = connection.execute(ins, inventory_list)"
   ]
  },
  {
   "source": [
    "# Querying Data"
   ],
   "cell_type": "markdown",
   "metadata": {}
  },
  {
   "cell_type": "code",
   "execution_count": 8,
   "metadata": {},
   "outputs": [
    {
     "output_type": "stream",
     "name": "stderr",
     "text": [
      "/home/gagaallall/anaconda3/lib/python3.6/site-packages/sqlalchemy/sql/sqltypes.py:603: SAWarning: Dialect sqlite+pysqlite does *not* support Decimal objects natively, and SQLAlchemy must convert from floating point - rounding errors and other issues may occur. Please consider storing Decimal numbers as strings or integers on this platform for lossless storage.\n  'storage.' % (dialect.name, dialect.driver))\n"
     ]
    }
   ],
   "source": [
    "from sqlalchemy import select\n",
    "\n",
    "s = select([cookies])\n",
    "rp = connection.execute(s)\n",
    "result = rp.fetchall()"
   ]
  },
  {
   "cell_type": "code",
   "execution_count": 9,
   "metadata": {},
   "outputs": [
    {
     "output_type": "execute_result",
     "data": {
      "text/plain": [
       "'chocolate_chip'"
      ]
     },
     "metadata": {},
     "execution_count": 9
    }
   ],
   "source": [
    "result[0].cookie_name"
   ]
  },
  {
   "source": [
    "# Controlling the Columns in the Query"
   ],
   "cell_type": "markdown",
   "metadata": {}
  },
  {
   "cell_type": "code",
   "execution_count": 10,
   "metadata": {},
   "outputs": [
    {
     "output_type": "stream",
     "name": "stdout",
     "text": [
      "['cookie_name', 'quantity']\n('chocolate_chip', 12)\n"
     ]
    }
   ],
   "source": [
    "s = select([cookies.c.cookie_name, cookies.c.quantity])\n",
    "rp = connection.execute(s)\n",
    "print(rp.keys())\n",
    "result = rp.first()\n",
    "print(result)"
   ]
  },
  {
   "source": [
    "# Ordering"
   ],
   "cell_type": "markdown",
   "metadata": {}
  },
  {
   "cell_type": "code",
   "execution_count": 11,
   "metadata": {},
   "outputs": [
    {
     "output_type": "stream",
     "name": "stdout",
     "text": [
      "12 - chocolate_chip\n24 - peanut_butter\n100 - oatmeal raisin\n"
     ]
    }
   ],
   "source": [
    "s = select([cookies.c.cookie_name, cookies.c.quantity])\n",
    "s = s.order_by(cookies.c.quantity)\n",
    "rp = connection.execute(s)\n",
    "for cookie in rp:\n",
    "    print(f'{cookie.quantity} - {cookie.cookie_name}')"
   ]
  },
  {
   "source": [
    "## Descending"
   ],
   "cell_type": "markdown",
   "metadata": {}
  },
  {
   "cell_type": "code",
   "execution_count": 12,
   "metadata": {},
   "outputs": [
    {
     "output_type": "stream",
     "name": "stdout",
     "text": [
      "[('oatmeal raisin', 100), ('peanut_butter', 24), ('chocolate_chip', 12)]\n"
     ]
    }
   ],
   "source": [
    "from sqlalchemy import desc\n",
    "\n",
    "s = select([cookies.c.cookie_name, cookies.c.quantity])\n",
    "s = s.order_by(desc(cookies.c.quantity))\n",
    "result = connection.execute(s)\n",
    "print(result.fetchall())\n",
    "for cookie in result:\n",
    "    print(cookie)"
   ]
  },
  {
   "source": [
    "# Limit"
   ],
   "cell_type": "markdown",
   "metadata": {}
  },
  {
   "cell_type": "code",
   "execution_count": 13,
   "metadata": {},
   "outputs": [
    {
     "output_type": "stream",
     "name": "stdout",
     "text": [
      "['chocolate_chip', 'peanut_butter']\n"
     ]
    }
   ],
   "source": [
    "s = select([cookies.c.cookie_name, cookies.c.quantity])\n",
    "s = s.order_by(cookies.c.quantity)\n",
    "s = s.limit(2)\n",
    "rp = connection.execute(s)\n",
    "print([result.cookie_name for result in rp])"
   ]
  },
  {
   "source": [
    "# Built-in SQL Functions and Labels"
   ],
   "cell_type": "markdown",
   "metadata": {}
  },
  {
   "cell_type": "code",
   "execution_count": 14,
   "metadata": {},
   "outputs": [
    {
     "output_type": "stream",
     "name": "stdout",
     "text": [
      "136\n"
     ]
    }
   ],
   "source": [
    "from sqlalchemy import func\n",
    "\n",
    "s = select([func.sum(cookies.c.quantity)])\n",
    "rp = connection.execute(s)\n",
    "print(rp.scalar())"
   ]
  },
  {
   "cell_type": "code",
   "execution_count": 15,
   "metadata": {},
   "outputs": [
    {
     "output_type": "stream",
     "name": "stdout",
     "text": [
      "['count_1']\n3\n"
     ]
    }
   ],
   "source": [
    "s = select([func.count(cookies.c.cookie_name)])\n",
    "rp = connection.execute(s)\n",
    "record = rp.first()\n",
    "print(record.keys())\n",
    "print(record.count_1)"
   ]
  },
  {
   "cell_type": "code",
   "execution_count": 16,
   "metadata": {},
   "outputs": [
    {
     "output_type": "stream",
     "name": "stdout",
     "text": [
      "['inventory_count']\n3\n"
     ]
    }
   ],
   "source": [
    "s = select([func.count(cookies.c.cookie_name).label('inventory_count')])\n",
    "rp = connection.execute(s)\n",
    "record = rp.first()\n",
    "print(record.keys())\n",
    "print(record.inventory_count)"
   ]
  },
  {
   "source": [
    "# Filtering"
   ],
   "cell_type": "markdown",
   "metadata": {}
  },
  {
   "cell_type": "code",
   "execution_count": 17,
   "metadata": {},
   "outputs": [
    {
     "output_type": "stream",
     "name": "stdout",
     "text": [
      "[('cookie_id', 1), ('cookie_name', 'chocolate_chip'), ('cookie_recipe_url', 'http://some.aweso.me/cookie/recipe.html'), ('cookie_sku', 'CCO1'), ('quantity', 12), ('unit_cost', Decimal('0.60'))]\n"
     ]
    }
   ],
   "source": [
    "s = select([cookies]).where(cookies.c.cookie_name == 'chocolate_chip')\n",
    "rp = connection.execute(s)\n",
    "record = rp.first()\n",
    "print(record.items())"
   ]
  },
  {
   "cell_type": "code",
   "execution_count": 18,
   "metadata": {},
   "outputs": [
    {
     "output_type": "stream",
     "name": "stdout",
     "text": [
      "chocolate_chip\n"
     ]
    }
   ],
   "source": [
    "s = select([cookies]).where(cookies.c.cookie_name.like('%chocolate%'))\n",
    "rp = connection.execute(s)\n",
    "for record in rp.fetchall():\n",
    "    print(record.cookie_name)"
   ]
  },
  {
   "source": [
    "# Operaters"
   ],
   "cell_type": "markdown",
   "metadata": {}
  },
  {
   "cell_type": "code",
   "execution_count": 19,
   "metadata": {},
   "outputs": [
    {
     "output_type": "stream",
     "name": "stdout",
     "text": [
      "('chocolate_chip', 'SKU-CCO1')\n('peanut_butter', 'SKU-PON01')\n('oatmeal raisin', 'SKU-EWW01')\n"
     ]
    }
   ],
   "source": [
    "s = select([cookies.c.cookie_name, 'SKU-' + cookies.c.cookie_sku])\n",
    "for row in connection.execute(s):\n",
    "    print(row)"
   ]
  },
  {
   "cell_type": "code",
   "execution_count": 20,
   "metadata": {},
   "outputs": [
    {
     "output_type": "stream",
     "name": "stdout",
     "text": [
      "chocolate_chip - 7.20\n",
      "peanut_butter - 6.00\n",
      "oatmeal raisin - 100.00\n",
      "/home/gagaallall/anaconda3/lib/python3.6/site-packages/sqlalchemy/sql/sqltypes.py:603: SAWarning: Dialect sqlite+pysqlite does *not* support Decimal objects natively, and SQLAlchemy must convert from floating point - rounding errors and other issues may occur. Please consider storing Decimal numbers as strings or integers on this platform for lossless storage.\n",
      "  'storage.' % (dialect.name, dialect.driver))\n"
     ]
    }
   ],
   "source": [
    "from sqlalchemy import cast\n",
    "\n",
    "s = select([cookies.c.cookie_name, cast((cookies.c.quantity * cookies.c.unit_cost), Numeric(12, 2)).label('inv_cost')])\n",
    "\n",
    "for row in connection.execute(s):\n",
    "    print(f'{row.cookie_name} - {row.inv_cost}')"
   ]
  },
  {
   "cell_type": "code",
   "execution_count": 21,
   "metadata": {},
   "outputs": [
    {
     "output_type": "stream",
     "name": "stdout",
     "text": [
      "peanut_butter\n"
     ]
    }
   ],
   "source": [
    "from sqlalchemy import and_, not_, or_\n",
    "\n",
    "s = select([cookies]).where(\n",
    "    and_(\n",
    "        cookies.c.quantity > 23, \n",
    "        cookies.c.unit_cost < 0.40\n",
    "    )\n",
    ")\n",
    "\n",
    "for row in connection.execute(s):\n",
    "    print(row.cookie_name)"
   ]
  },
  {
   "cell_type": "code",
   "execution_count": 22,
   "metadata": {},
   "outputs": [
    {
     "output_type": "stream",
     "name": "stdout",
     "text": [
      "chocolate_chip\npeanut_butter\n"
     ]
    }
   ],
   "source": [
    "from sqlalchemy import and_, or_, not_\n",
    "s = select([cookies]).where(\n",
    "    or_(\n",
    "        cookies.c.quantity.between(10, 50),\n",
    "        cookies.c.cookie_name.contains('chip')\n",
    "    )\n",
    ")\n",
    "for row in connection.execute(s):\n",
    "    print(row.cookie_name)\n"
   ]
  },
  {
   "source": [
    "# Updating Data"
   ],
   "cell_type": "markdown",
   "metadata": {}
  },
  {
   "cell_type": "code",
   "execution_count": 23,
   "metadata": {},
   "outputs": [
    {
     "output_type": "stream",
     "name": "stdout",
     "text": [
      "1\n           cookie_id: 1\n         cookie_name: chocolate_chip\n   cookie_recipe_url: http://some.aweso.me/cookie/recipe.html\n          cookie_sku: CCO1\n            quantity: 132\n           unit_cost: 0.60\n"
     ]
    }
   ],
   "source": [
    "from sqlalchemy import update\n",
    "\n",
    "u = update(cookies).where(cookies.c.cookie_name == 'chocolate_chip')\n",
    "u = u.values(quantity=(cookies.c.quantity + 120))\n",
    "result = connection.execute(u)\n",
    "print(result.rowcount)\n",
    "s = select([cookies]).where(cookies.c.cookie_name == 'chocolate_chip')\n",
    "result = connection.execute(s).first()\n",
    "for key in result.keys():\n",
    "    print(f'{key:>20}: {result[key]}')"
   ]
  },
  {
   "source": [
    "# Deleting Data"
   ],
   "cell_type": "markdown",
   "metadata": {}
  },
  {
   "cell_type": "code",
   "execution_count": 24,
   "metadata": {},
   "outputs": [
    {
     "output_type": "stream",
     "name": "stdout",
     "text": [
      "1\n0\n"
     ]
    }
   ],
   "source": [
    "from sqlalchemy import delete\n",
    "\n",
    "d = delete(cookies).where(cookies.c.cookie_name == 'chocolate_chip')\n",
    "result = connection.execute(d)\n",
    "print(result.rowcount)\n",
    "\n",
    "s = select([cookies]).where(cookies.c.cookie_name == 'chocolate_chip')\n",
    "result = connection.execute(s).fetchall()\n",
    "print(len(result))"
   ]
  },
  {
   "source": [
    "---------------------------------------------------"
   ],
   "cell_type": "markdown",
   "metadata": {}
  },
  {
   "cell_type": "code",
   "execution_count": 25,
   "metadata": {},
   "outputs": [],
   "source": [
    "customer_list = [\n",
    "    {\n",
    "        'username': 'cookiemon',\n",
    "        'email_address': 'mon@cookie.com',\n",
    "        'phone': '111-111-1111',\n",
    "        'password': 'password'\n",
    "    },\n",
    "    {\n",
    "        'username': 'cakeeater',\n",
    "        'email_address': 'cakeeater@cake.com',\n",
    "        'phone': '222-222-2222',\n",
    "        'password': 'password'\n",
    "    },\n",
    "    {\n",
    "        'username': 'pieguy',\n",
    "        'email_address': 'guy@pie.com',\n",
    "        'phone': '333-333-3333',\n",
    "        'password': 'password'\n",
    "    }\n",
    "]\n",
    "ins = users.insert()\n",
    "result = connection.execute(ins, customer_list)"
   ]
  },
  {
   "cell_type": "code",
   "execution_count": 26,
   "metadata": {},
   "outputs": [
    {
     "output_type": "error",
     "ename": "NameError",
     "evalue": "name 'insert' is not defined",
     "traceback": [
      "\u001b[0;31m---------------------------------------------------------------------------\u001b[0m",
      "\u001b[0;31mNameError\u001b[0m                                 Traceback (most recent call last)",
      "\u001b[0;32m<ipython-input-26-7dc84ad19434>\u001b[0m in \u001b[0;36m<module>\u001b[0;34m()\u001b[0m\n\u001b[1;32m      1\u001b[0m \u001b[0mins\u001b[0m \u001b[0;34m=\u001b[0m \u001b[0morders\u001b[0m\u001b[0;34m.\u001b[0m\u001b[0minsert\u001b[0m\u001b[0;34m(\u001b[0m\u001b[0;34m)\u001b[0m\u001b[0;34m.\u001b[0m\u001b[0mvalues\u001b[0m\u001b[0;34m(\u001b[0m\u001b[0muser_id\u001b[0m\u001b[0;34m=\u001b[0m\u001b[0;36m1\u001b[0m\u001b[0;34m,\u001b[0m \u001b[0morder_id\u001b[0m\u001b[0;34m=\u001b[0m\u001b[0;36m1\u001b[0m\u001b[0;34m)\u001b[0m\u001b[0;34m\u001b[0m\u001b[0m\n\u001b[1;32m      2\u001b[0m \u001b[0mresult\u001b[0m \u001b[0;34m=\u001b[0m \u001b[0mconnection\u001b[0m\u001b[0;34m.\u001b[0m\u001b[0mexecute\u001b[0m\u001b[0;34m(\u001b[0m\u001b[0mins\u001b[0m\u001b[0;34m)\u001b[0m\u001b[0;34m\u001b[0m\u001b[0m\n\u001b[0;32m----> 3\u001b[0;31m \u001b[0mins\u001b[0m \u001b[0;34m=\u001b[0m \u001b[0minsert\u001b[0m\u001b[0;34m(\u001b[0m\u001b[0mline_items\u001b[0m\u001b[0;34m)\u001b[0m\u001b[0;34m\u001b[0m\u001b[0m\n\u001b[0m\u001b[1;32m      4\u001b[0m order_items = [\n\u001b[1;32m      5\u001b[0m     {\n",
      "\u001b[0;31mNameError\u001b[0m: name 'insert' is not defined"
     ]
    }
   ],
   "source": [
    "ins = orders.insert().values(user_id=1, order_id=1)\n",
    "result = connection.execute(ins)\n",
    "ins = line_items.insert()\n",
    "order_items = [\n",
    "    {\n",
    "        'order_id': 1,\n",
    "        'cookie_id': 1,\n",
    "        'quantity': 2,\n",
    "        'extended_cost': 1.00\n",
    "    },\n",
    "    {\n",
    "        'order_id': 1,\n",
    "        'cookie_id': 3,\n",
    "        'quantity': 12,\n",
    "        'extended_cost': 3.00\n",
    "    }\n",
    "]\n",
    "result = connection.execute(ins, order_items)\n",
    "ins = orders.insert().values(user_id=2, order_id=2)\n",
    "result = connection.execute(ins)\n",
    "ins = line_items.insert()\n",
    "order_items = [\n",
    "    {\n",
    "        'order_id': 2,\n",
    "        'cookie_id': 1,\n",
    "        'quantity': 24,\n",
    "        'extended_cost': 12.00\n",
    "    },\n",
    "    {\n",
    "        'order_id': 2,\n",
    "        'cookie_id': 4,\n",
    "        'quantity': 6,\n",
    "        'extended_cost': 6.00\n",
    "    }\n",
    "]\n",
    "result = connection.execute(ins, order_items)\n"
   ]
  },
  {
   "cell_type": "code",
   "execution_count": null,
   "metadata": {},
   "outputs": [],
   "source": []
  }
 ]
}